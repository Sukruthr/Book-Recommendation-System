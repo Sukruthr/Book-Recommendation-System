{
  "nbformat": 4,
  "nbformat_minor": 0,
  "metadata": {
    "colab": {
      "name": "Book Recommendation System .ipynb",
      "provenance": [],
      "collapsed_sections": [
        "b6CRxWDgI8lT",
        "juKNbDjsJVQJ",
        "aebXTnjAJWZF",
        "-qeYcckFIxgT"
      ],
      "mount_file_id": "1aQ7WAWyZ3N27LvQZJmzPDcZCrrIjctTc",
      "authorship_tag": "ABX9TyP7YV8fZRAYOiFcmeGtbjuu",
      "include_colab_link": true
    },
    "kernelspec": {
      "display_name": "Python 3",
      "name": "python3"
    },
    "language_info": {
      "name": "python"
    }
  },
  "cells": [
    {
      "cell_type": "markdown",
      "metadata": {
        "id": "view-in-github",
        "colab_type": "text"
      },
      "source": [
        "<a href=\"https://colab.research.google.com/github/Sukruthr/Book-Recommendation-System/blob/main/Book_Recommendation_System_.ipynb\" target=\"_parent\"><img src=\"https://colab.research.google.com/assets/colab-badge.svg\" alt=\"Open In Colab\"/></a>"
      ]
    },
    {
      "cell_type": "markdown",
      "metadata": {
        "id": "OgAo7z1dGdgy"
      },
      "source": [
        "## Introduction"
      ]
    },
    {
      "cell_type": "code",
      "metadata": {
        "id": "23RP5VQ7GY0C"
      },
      "source": [
        "# import required libraries\n",
        "import re\n",
        "# import pickle\n",
        "import operator\n",
        "import numpy as np\n",
        "import pandas as pd\n",
        "import seaborn as sns\n",
        "import matplotlib.pyplot as plt\n",
        "# from collections import Counter\n",
        "from scipy.sparse import csr_matrix\n",
        "from pandas.api.types import is_numeric_dtype\n",
        "from sklearn.neighbors import NearestNeighbors\n",
        "from sklearn.feature_extraction import DictVectorizer\n",
        "from sklearn.metrics.pairwise import cosine_similarity\n",
        "from sklearn.feature_extraction.text import TfidfVectorizer\n",
        "# ignore warnings\n",
        "import warnings\n",
        "warnings.filterwarnings(\"ignore\")"
      ],
      "execution_count": 71,
      "outputs": []
    },
    {
      "cell_type": "markdown",
      "metadata": {
        "id": "3Ic3eKN3IFEG"
      },
      "source": [
        "## File path's"
      ]
    },
    {
      "cell_type": "markdown",
      "metadata": {
        "id": "b6CRxWDgI8lT"
      },
      "source": [
        "### Amit"
      ]
    },
    {
      "cell_type": "code",
      "metadata": {
        "id": "pwiRLBOxHa59"
      },
      "source": [
        "# # books file path\n",
        "# books = pd.read_csv('')\n",
        "\n",
        "# # users file path\n",
        "# users = pd.read_csv('')\n",
        "\n",
        "# # ratings file path\n",
        "# ratings = pd.read_csv('')"
      ],
      "execution_count": 72,
      "outputs": []
    },
    {
      "cell_type": "markdown",
      "metadata": {
        "id": "juKNbDjsJVQJ"
      },
      "source": [
        "### Anand"
      ]
    },
    {
      "cell_type": "code",
      "metadata": {
        "id": "82f23QduJVQJ"
      },
      "source": [
        "# # books file path\n",
        "# books = pd.read_csv('')\n",
        "\n",
        "# # users file path\n",
        "# users = pd.read_csv('')\n",
        "\n",
        "# # ratings file path\n",
        "# ratings = pd.read_csv('')"
      ],
      "execution_count": 73,
      "outputs": []
    },
    {
      "cell_type": "markdown",
      "metadata": {
        "id": "aebXTnjAJWZF"
      },
      "source": [
        "### Kanishque"
      ]
    },
    {
      "cell_type": "code",
      "metadata": {
        "id": "amuGR17IJWZG"
      },
      "source": [
        "# # books file path\n",
        "# books = pd.read_csv('')\n",
        "\n",
        "# # users file path\n",
        "# users = pd.read_csv('')\n",
        "\n",
        "# # ratings file path\n",
        "# ratings = pd.read_csv('')"
      ],
      "execution_count": 74,
      "outputs": []
    },
    {
      "cell_type": "markdown",
      "metadata": {
        "id": "-qeYcckFIxgT"
      },
      "source": [
        "### Sukruth"
      ]
    },
    {
      "cell_type": "code",
      "metadata": {
        "id": "Lkzm8gwFGxUQ"
      },
      "source": [
        "# books file path\n",
        "books = pd.read_csv('/content/drive/MyDrive/AlmaBetter/Team Capstone Projects/Book Recommendation System ( Unsupervised ML )/Resources/Books.csv')\n",
        "\n",
        "# users file path\n",
        "users = pd.read_csv('/content/drive/MyDrive/AlmaBetter/Team Capstone Projects/Book Recommendation System ( Unsupervised ML )/Resources/Users.csv')\n",
        "\n",
        "# ratings file path\n",
        "ratings = pd.read_csv('/content/drive/MyDrive/AlmaBetter/Team Capstone Projects/Book Recommendation System ( Unsupervised ML )/Resources/Ratings.csv')"
      ],
      "execution_count": 75,
      "outputs": []
    },
    {
      "cell_type": "markdown",
      "metadata": {
        "id": "1Kh40uLrKDmi"
      },
      "source": [
        "## DATA Preprocessing"
      ]
    },
    {
      "cell_type": "markdown",
      "metadata": {
        "id": "sB2IsxkS7fWB"
      },
      "source": [
        "### Books data cleaning"
      ]
    },
    {
      "cell_type": "code",
      "metadata": {
        "colab": {
          "base_uri": "https://localhost:8080/",
          "height": 422
        },
        "id": "5axTrXEm5tAe",
        "outputId": "558ff804-cdf3-4a1b-9c66-eb62848256b9"
      },
      "source": [
        "# look at the books data\n",
        "books.head()"
      ],
      "execution_count": 76,
      "outputs": [
        {
          "output_type": "execute_result",
          "data": {
            "text/html": [
              "<div>\n",
              "<style scoped>\n",
              "    .dataframe tbody tr th:only-of-type {\n",
              "        vertical-align: middle;\n",
              "    }\n",
              "\n",
              "    .dataframe tbody tr th {\n",
              "        vertical-align: top;\n",
              "    }\n",
              "\n",
              "    .dataframe thead th {\n",
              "        text-align: right;\n",
              "    }\n",
              "</style>\n",
              "<table border=\"1\" class=\"dataframe\">\n",
              "  <thead>\n",
              "    <tr style=\"text-align: right;\">\n",
              "      <th></th>\n",
              "      <th>ISBN</th>\n",
              "      <th>Book-Title</th>\n",
              "      <th>Book-Author</th>\n",
              "      <th>Year-Of-Publication</th>\n",
              "      <th>Publisher</th>\n",
              "      <th>Image-URL-S</th>\n",
              "      <th>Image-URL-M</th>\n",
              "      <th>Image-URL-L</th>\n",
              "    </tr>\n",
              "  </thead>\n",
              "  <tbody>\n",
              "    <tr>\n",
              "      <th>0</th>\n",
              "      <td>0195153448</td>\n",
              "      <td>Classical Mythology</td>\n",
              "      <td>Mark P. O. Morford</td>\n",
              "      <td>2002</td>\n",
              "      <td>Oxford University Press</td>\n",
              "      <td>http://images.amazon.com/images/P/0195153448.0...</td>\n",
              "      <td>http://images.amazon.com/images/P/0195153448.0...</td>\n",
              "      <td>http://images.amazon.com/images/P/0195153448.0...</td>\n",
              "    </tr>\n",
              "    <tr>\n",
              "      <th>1</th>\n",
              "      <td>0002005018</td>\n",
              "      <td>Clara Callan</td>\n",
              "      <td>Richard Bruce Wright</td>\n",
              "      <td>2001</td>\n",
              "      <td>HarperFlamingo Canada</td>\n",
              "      <td>http://images.amazon.com/images/P/0002005018.0...</td>\n",
              "      <td>http://images.amazon.com/images/P/0002005018.0...</td>\n",
              "      <td>http://images.amazon.com/images/P/0002005018.0...</td>\n",
              "    </tr>\n",
              "    <tr>\n",
              "      <th>2</th>\n",
              "      <td>0060973129</td>\n",
              "      <td>Decision in Normandy</td>\n",
              "      <td>Carlo D'Este</td>\n",
              "      <td>1991</td>\n",
              "      <td>HarperPerennial</td>\n",
              "      <td>http://images.amazon.com/images/P/0060973129.0...</td>\n",
              "      <td>http://images.amazon.com/images/P/0060973129.0...</td>\n",
              "      <td>http://images.amazon.com/images/P/0060973129.0...</td>\n",
              "    </tr>\n",
              "    <tr>\n",
              "      <th>3</th>\n",
              "      <td>0374157065</td>\n",
              "      <td>Flu: The Story of the Great Influenza Pandemic...</td>\n",
              "      <td>Gina Bari Kolata</td>\n",
              "      <td>1999</td>\n",
              "      <td>Farrar Straus Giroux</td>\n",
              "      <td>http://images.amazon.com/images/P/0374157065.0...</td>\n",
              "      <td>http://images.amazon.com/images/P/0374157065.0...</td>\n",
              "      <td>http://images.amazon.com/images/P/0374157065.0...</td>\n",
              "    </tr>\n",
              "    <tr>\n",
              "      <th>4</th>\n",
              "      <td>0393045218</td>\n",
              "      <td>The Mummies of Urumchi</td>\n",
              "      <td>E. J. W. Barber</td>\n",
              "      <td>1999</td>\n",
              "      <td>W. W. Norton &amp;amp; Company</td>\n",
              "      <td>http://images.amazon.com/images/P/0393045218.0...</td>\n",
              "      <td>http://images.amazon.com/images/P/0393045218.0...</td>\n",
              "      <td>http://images.amazon.com/images/P/0393045218.0...</td>\n",
              "    </tr>\n",
              "  </tbody>\n",
              "</table>\n",
              "</div>"
            ],
            "text/plain": [
              "         ISBN  ...                                        Image-URL-L\n",
              "0  0195153448  ...  http://images.amazon.com/images/P/0195153448.0...\n",
              "1  0002005018  ...  http://images.amazon.com/images/P/0002005018.0...\n",
              "2  0060973129  ...  http://images.amazon.com/images/P/0060973129.0...\n",
              "3  0374157065  ...  http://images.amazon.com/images/P/0374157065.0...\n",
              "4  0393045218  ...  http://images.amazon.com/images/P/0393045218.0...\n",
              "\n",
              "[5 rows x 8 columns]"
            ]
          },
          "metadata": {},
          "execution_count": 76
        }
      ]
    },
    {
      "cell_type": "code",
      "metadata": {
        "colab": {
          "base_uri": "https://localhost:8080/"
        },
        "id": "tVw2xvABn6Mt",
        "outputId": "d9ef2c07-69d0-4761-fe15-43c418a37e91"
      },
      "source": [
        "# info\n",
        "books.info()"
      ],
      "execution_count": 77,
      "outputs": [
        {
          "output_type": "stream",
          "name": "stdout",
          "text": [
            "<class 'pandas.core.frame.DataFrame'>\n",
            "RangeIndex: 271360 entries, 0 to 271359\n",
            "Data columns (total 8 columns):\n",
            " #   Column               Non-Null Count   Dtype \n",
            "---  ------               --------------   ----- \n",
            " 0   ISBN                 271360 non-null  object\n",
            " 1   Book-Title           271360 non-null  object\n",
            " 2   Book-Author          271359 non-null  object\n",
            " 3   Year-Of-Publication  271360 non-null  object\n",
            " 4   Publisher            271358 non-null  object\n",
            " 5   Image-URL-S          271360 non-null  object\n",
            " 6   Image-URL-M          271360 non-null  object\n",
            " 7   Image-URL-L          271357 non-null  object\n",
            "dtypes: object(8)\n",
            "memory usage: 16.6+ MB\n"
          ]
        }
      ]
    },
    {
      "cell_type": "code",
      "metadata": {
        "colab": {
          "base_uri": "https://localhost:8080/"
        },
        "id": "_5tLVG0_50KM",
        "outputId": "47db4b09-8db2-47f3-e039-8c09718dfa37"
      },
      "source": [
        "# columns and data shape\n",
        "print(f\"Books dataset shape : {books.shape}\")\n",
        "print(f\"Books columns: {list(books.columns)} \" )"
      ],
      "execution_count": 78,
      "outputs": [
        {
          "output_type": "stream",
          "name": "stdout",
          "text": [
            "Books dataset shape : (271360, 8)\n",
            "Books columns: ['ISBN', 'Book-Title', 'Book-Author', 'Year-Of-Publication', 'Publisher', 'Image-URL-S', 'Image-URL-M', 'Image-URL-L'] \n"
          ]
        }
      ]
    },
    {
      "cell_type": "code",
      "metadata": {
        "colab": {
          "base_uri": "https://localhost:8080/",
          "height": 220
        },
        "id": "KyXwqjrh7yvM",
        "outputId": "d1dbca85-fa6f-4859-c46f-a8416d706893"
      },
      "source": [
        "# Drop URL columns that arent required for analysis\n",
        "books.drop(['Image-URL-S', 'Image-URL-M', 'Image-URL-L'], axis=1, inplace=True)\n",
        "print(f'Books table after dropping the 3 Image-cols')\n",
        "books.head()"
      ],
      "execution_count": 79,
      "outputs": [
        {
          "output_type": "stream",
          "name": "stdout",
          "text": [
            "Books table after dropping the 3 Image-cols\n"
          ]
        },
        {
          "output_type": "execute_result",
          "data": {
            "text/html": [
              "<div>\n",
              "<style scoped>\n",
              "    .dataframe tbody tr th:only-of-type {\n",
              "        vertical-align: middle;\n",
              "    }\n",
              "\n",
              "    .dataframe tbody tr th {\n",
              "        vertical-align: top;\n",
              "    }\n",
              "\n",
              "    .dataframe thead th {\n",
              "        text-align: right;\n",
              "    }\n",
              "</style>\n",
              "<table border=\"1\" class=\"dataframe\">\n",
              "  <thead>\n",
              "    <tr style=\"text-align: right;\">\n",
              "      <th></th>\n",
              "      <th>ISBN</th>\n",
              "      <th>Book-Title</th>\n",
              "      <th>Book-Author</th>\n",
              "      <th>Year-Of-Publication</th>\n",
              "      <th>Publisher</th>\n",
              "    </tr>\n",
              "  </thead>\n",
              "  <tbody>\n",
              "    <tr>\n",
              "      <th>0</th>\n",
              "      <td>0195153448</td>\n",
              "      <td>Classical Mythology</td>\n",
              "      <td>Mark P. O. Morford</td>\n",
              "      <td>2002</td>\n",
              "      <td>Oxford University Press</td>\n",
              "    </tr>\n",
              "    <tr>\n",
              "      <th>1</th>\n",
              "      <td>0002005018</td>\n",
              "      <td>Clara Callan</td>\n",
              "      <td>Richard Bruce Wright</td>\n",
              "      <td>2001</td>\n",
              "      <td>HarperFlamingo Canada</td>\n",
              "    </tr>\n",
              "    <tr>\n",
              "      <th>2</th>\n",
              "      <td>0060973129</td>\n",
              "      <td>Decision in Normandy</td>\n",
              "      <td>Carlo D'Este</td>\n",
              "      <td>1991</td>\n",
              "      <td>HarperPerennial</td>\n",
              "    </tr>\n",
              "    <tr>\n",
              "      <th>3</th>\n",
              "      <td>0374157065</td>\n",
              "      <td>Flu: The Story of the Great Influenza Pandemic...</td>\n",
              "      <td>Gina Bari Kolata</td>\n",
              "      <td>1999</td>\n",
              "      <td>Farrar Straus Giroux</td>\n",
              "    </tr>\n",
              "    <tr>\n",
              "      <th>4</th>\n",
              "      <td>0393045218</td>\n",
              "      <td>The Mummies of Urumchi</td>\n",
              "      <td>E. J. W. Barber</td>\n",
              "      <td>1999</td>\n",
              "      <td>W. W. Norton &amp;amp; Company</td>\n",
              "    </tr>\n",
              "  </tbody>\n",
              "</table>\n",
              "</div>"
            ],
            "text/plain": [
              "         ISBN  ...                   Publisher\n",
              "0  0195153448  ...     Oxford University Press\n",
              "1  0002005018  ...       HarperFlamingo Canada\n",
              "2  0060973129  ...             HarperPerennial\n",
              "3  0374157065  ...        Farrar Straus Giroux\n",
              "4  0393045218  ...  W. W. Norton &amp; Company\n",
              "\n",
              "[5 rows x 5 columns]"
            ]
          },
          "metadata": {},
          "execution_count": 79
        }
      ]
    },
    {
      "cell_type": "code",
      "metadata": {
        "colab": {
          "base_uri": "https://localhost:8080/"
        },
        "id": "dlAUa3md8IiB",
        "outputId": "672d5f09-cf30-403a-d137-e8fd6a55efeb"
      },
      "source": [
        "# Checking for null values\n",
        "col_with_nulls = books.isnull().sum()\n",
        "col_with_nulls"
      ],
      "execution_count": 80,
      "outputs": [
        {
          "output_type": "execute_result",
          "data": {
            "text/plain": [
              "ISBN                   0\n",
              "Book-Title             0\n",
              "Book-Author            1\n",
              "Year-Of-Publication    0\n",
              "Publisher              2\n",
              "dtype: int64"
            ]
          },
          "metadata": {},
          "execution_count": 80
        }
      ]
    },
    {
      "cell_type": "markdown",
      "metadata": {
        "id": "Dl_HI8bI8VJB"
      },
      "source": [
        "There are intotal 3 null values let us look at them and handle them"
      ]
    },
    {
      "cell_type": "code",
      "metadata": {
        "colab": {
          "base_uri": "https://localhost:8080/"
        },
        "id": "kxjiCSiy8ZVG",
        "outputId": "40e006c7-7d72-4ac8-8f16-7726f8083eec"
      },
      "source": [
        "# return indices of null values\n",
        "b_null_items = [] \n",
        "for col in books.columns:\n",
        "  b_null_items += books[books[col].isnull()].index.tolist()\n",
        "print(f'The indices of null values are : {b_null_items}')"
      ],
      "execution_count": 81,
      "outputs": [
        {
          "output_type": "stream",
          "name": "stdout",
          "text": [
            "The indices of null values are : [187689, 128890, 129037]\n"
          ]
        }
      ]
    },
    {
      "cell_type": "code",
      "metadata": {
        "colab": {
          "base_uri": "https://localhost:8080/",
          "height": 141
        },
        "id": "rMiSb2yV_Ip_",
        "outputId": "1184d869-4921-400c-f3f8-a89efb56a53b"
      },
      "source": [
        "# items with missing data \n",
        "books.iloc[b_null_items]"
      ],
      "execution_count": 82,
      "outputs": [
        {
          "output_type": "execute_result",
          "data": {
            "text/html": [
              "<div>\n",
              "<style scoped>\n",
              "    .dataframe tbody tr th:only-of-type {\n",
              "        vertical-align: middle;\n",
              "    }\n",
              "\n",
              "    .dataframe tbody tr th {\n",
              "        vertical-align: top;\n",
              "    }\n",
              "\n",
              "    .dataframe thead th {\n",
              "        text-align: right;\n",
              "    }\n",
              "</style>\n",
              "<table border=\"1\" class=\"dataframe\">\n",
              "  <thead>\n",
              "    <tr style=\"text-align: right;\">\n",
              "      <th></th>\n",
              "      <th>ISBN</th>\n",
              "      <th>Book-Title</th>\n",
              "      <th>Book-Author</th>\n",
              "      <th>Year-Of-Publication</th>\n",
              "      <th>Publisher</th>\n",
              "    </tr>\n",
              "  </thead>\n",
              "  <tbody>\n",
              "    <tr>\n",
              "      <th>187689</th>\n",
              "      <td>9627982032</td>\n",
              "      <td>The Credit Suisse Guide to Managing Your Perso...</td>\n",
              "      <td>NaN</td>\n",
              "      <td>1995</td>\n",
              "      <td>Edinburgh Financial Publishing</td>\n",
              "    </tr>\n",
              "    <tr>\n",
              "      <th>128890</th>\n",
              "      <td>193169656X</td>\n",
              "      <td>Tyrant Moon</td>\n",
              "      <td>Elaine Corvidae</td>\n",
              "      <td>2002</td>\n",
              "      <td>NaN</td>\n",
              "    </tr>\n",
              "    <tr>\n",
              "      <th>129037</th>\n",
              "      <td>1931696993</td>\n",
              "      <td>Finders Keepers</td>\n",
              "      <td>Linnea Sinclair</td>\n",
              "      <td>2001</td>\n",
              "      <td>NaN</td>\n",
              "    </tr>\n",
              "  </tbody>\n",
              "</table>\n",
              "</div>"
            ],
            "text/plain": [
              "              ISBN  ...                       Publisher\n",
              "187689  9627982032  ...  Edinburgh Financial Publishing\n",
              "128890  193169656X  ...                             NaN\n",
              "129037  1931696993  ...                             NaN\n",
              "\n",
              "[3 rows x 5 columns]"
            ]
          },
          "metadata": {},
          "execution_count": 82
        }
      ]
    },
    {
      "cell_type": "code",
      "metadata": {
        "id": "TiC8VSil_WF5"
      },
      "source": [
        "# fill the missing values with Other\n",
        "books.iloc[b_null_items] = books.iloc[b_null_items].fillna('Other')"
      ],
      "execution_count": 83,
      "outputs": []
    },
    {
      "cell_type": "code",
      "metadata": {
        "colab": {
          "base_uri": "https://localhost:8080/"
        },
        "id": "B0Mcs1RAC8MY",
        "collapsed": true,
        "outputId": "43eb9b3b-fb0c-4ece-e646-18fae28e00a5"
      },
      "source": [
        "# Checking for column Year-of-publication\n",
        "books['Year-Of-Publication'].unique()"
      ],
      "execution_count": 84,
      "outputs": [
        {
          "output_type": "execute_result",
          "data": {
            "text/plain": [
              "array([2002, 2001, 1991, 1999, 2000, 1993, 1996, 1988, 2004, 1998, 1994,\n",
              "       2003, 1997, 1983, 1979, 1995, 1982, 1985, 1992, 1986, 1978, 1980,\n",
              "       1952, 1987, 1990, 1981, 1989, 1984, 0, 1968, 1961, 1958, 1974,\n",
              "       1976, 1971, 1977, 1975, 1965, 1941, 1970, 1962, 1973, 1972, 1960,\n",
              "       1966, 1920, 1956, 1959, 1953, 1951, 1942, 1963, 1964, 1969, 1954,\n",
              "       1950, 1967, 2005, 1957, 1940, 1937, 1955, 1946, 1936, 1930, 2011,\n",
              "       1925, 1948, 1943, 1947, 1945, 1923, 2020, 1939, 1926, 1938, 2030,\n",
              "       1911, 1904, 1949, 1932, 1928, 1929, 1927, 1931, 1914, 2050, 1934,\n",
              "       1910, 1933, 1902, 1924, 1921, 1900, 2038, 2026, 1944, 1917, 1901,\n",
              "       2010, 1908, 1906, 1935, 1806, 2021, '2000', '1995', '1999', '2004',\n",
              "       '2003', '1990', '1994', '1986', '1989', '2002', '1981', '1993',\n",
              "       '1983', '1982', '1976', '1991', '1977', '1998', '1992', '1996',\n",
              "       '0', '1997', '2001', '1974', '1968', '1987', '1984', '1988',\n",
              "       '1963', '1956', '1970', '1985', '1978', '1973', '1980', '1979',\n",
              "       '1975', '1969', '1961', '1965', '1939', '1958', '1950', '1953',\n",
              "       '1966', '1971', '1959', '1972', '1955', '1957', '1945', '1960',\n",
              "       '1967', '1932', '1924', '1964', '2012', '1911', '1927', '1948',\n",
              "       '1962', '2006', '1952', '1940', '1951', '1931', '1954', '2005',\n",
              "       '1930', '1941', '1944', 'DK Publishing Inc', '1943', '1938',\n",
              "       '1900', '1942', '1923', '1920', '1933', 'Gallimard', '1909',\n",
              "       '1946', '2008', '1378', '2030', '1936', '1947', '2011', '2020',\n",
              "       '1919', '1949', '1922', '1897', '2024', '1376', '1926', '2037'],\n",
              "      dtype=object)"
            ]
          },
          "metadata": {},
          "execution_count": 84
        }
      ]
    },
    {
      "cell_type": "code",
      "metadata": {
        "colab": {
          "base_uri": "https://localhost:8080/",
          "height": 110
        },
        "id": "z7VReNeNOBn7",
        "outputId": "459d307c-ba59-48d6-9202-e125b383908d"
      },
      "source": [
        "# at Year-Of-Publication = DK Publishing Inc\n",
        "books.loc[books['Year-Of-Publication'] == 'DK Publishing Inc',:]"
      ],
      "execution_count": 85,
      "outputs": [
        {
          "output_type": "execute_result",
          "data": {
            "text/html": [
              "<div>\n",
              "<style scoped>\n",
              "    .dataframe tbody tr th:only-of-type {\n",
              "        vertical-align: middle;\n",
              "    }\n",
              "\n",
              "    .dataframe tbody tr th {\n",
              "        vertical-align: top;\n",
              "    }\n",
              "\n",
              "    .dataframe thead th {\n",
              "        text-align: right;\n",
              "    }\n",
              "</style>\n",
              "<table border=\"1\" class=\"dataframe\">\n",
              "  <thead>\n",
              "    <tr style=\"text-align: right;\">\n",
              "      <th></th>\n",
              "      <th>ISBN</th>\n",
              "      <th>Book-Title</th>\n",
              "      <th>Book-Author</th>\n",
              "      <th>Year-Of-Publication</th>\n",
              "      <th>Publisher</th>\n",
              "    </tr>\n",
              "  </thead>\n",
              "  <tbody>\n",
              "    <tr>\n",
              "      <th>209538</th>\n",
              "      <td>078946697X</td>\n",
              "      <td>DK Readers: Creating the X-Men, How It All Beg...</td>\n",
              "      <td>2000</td>\n",
              "      <td>DK Publishing Inc</td>\n",
              "      <td>http://images.amazon.com/images/P/078946697X.0...</td>\n",
              "    </tr>\n",
              "    <tr>\n",
              "      <th>221678</th>\n",
              "      <td>0789466953</td>\n",
              "      <td>DK Readers: Creating the X-Men, How Comic Book...</td>\n",
              "      <td>2000</td>\n",
              "      <td>DK Publishing Inc</td>\n",
              "      <td>http://images.amazon.com/images/P/0789466953.0...</td>\n",
              "    </tr>\n",
              "  </tbody>\n",
              "</table>\n",
              "</div>"
            ],
            "text/plain": [
              "              ISBN  ...                                          Publisher\n",
              "209538  078946697X  ...  http://images.amazon.com/images/P/078946697X.0...\n",
              "221678  0789466953  ...  http://images.amazon.com/images/P/0789466953.0...\n",
              "\n",
              "[2 rows x 5 columns]"
            ]
          },
          "metadata": {},
          "execution_count": 85
        }
      ]
    },
    {
      "cell_type": "code",
      "metadata": {
        "colab": {
          "base_uri": "https://localhost:8080/",
          "height": 78
        },
        "id": "_dY3pHPqOksq",
        "collapsed": true,
        "outputId": "b682bf6c-39f2-43a3-9c14-392b874e2bc8"
      },
      "source": [
        "# at Year-Of-Publication = Gallimard\n",
        "books.loc[books['Year-Of-Publication'] == 'Gallimard',:]"
      ],
      "execution_count": 86,
      "outputs": [
        {
          "output_type": "execute_result",
          "data": {
            "text/html": [
              "<div>\n",
              "<style scoped>\n",
              "    .dataframe tbody tr th:only-of-type {\n",
              "        vertical-align: middle;\n",
              "    }\n",
              "\n",
              "    .dataframe tbody tr th {\n",
              "        vertical-align: top;\n",
              "    }\n",
              "\n",
              "    .dataframe thead th {\n",
              "        text-align: right;\n",
              "    }\n",
              "</style>\n",
              "<table border=\"1\" class=\"dataframe\">\n",
              "  <thead>\n",
              "    <tr style=\"text-align: right;\">\n",
              "      <th></th>\n",
              "      <th>ISBN</th>\n",
              "      <th>Book-Title</th>\n",
              "      <th>Book-Author</th>\n",
              "      <th>Year-Of-Publication</th>\n",
              "      <th>Publisher</th>\n",
              "    </tr>\n",
              "  </thead>\n",
              "  <tbody>\n",
              "    <tr>\n",
              "      <th>220731</th>\n",
              "      <td>2070426769</td>\n",
              "      <td>Peuple du ciel, suivi de 'Les Bergers\\\";Jean-M...</td>\n",
              "      <td>2003</td>\n",
              "      <td>Gallimard</td>\n",
              "      <td>http://images.amazon.com/images/P/2070426769.0...</td>\n",
              "    </tr>\n",
              "  </tbody>\n",
              "</table>\n",
              "</div>"
            ],
            "text/plain": [
              "              ISBN  ...                                          Publisher\n",
              "220731  2070426769  ...  http://images.amazon.com/images/P/2070426769.0...\n",
              "\n",
              "[1 rows x 5 columns]"
            ]
          },
          "metadata": {},
          "execution_count": 86
        }
      ]
    },
    {
      "cell_type": "markdown",
      "metadata": {
        "id": "fkF54YCbD0Z7"
      },
      "source": [
        "we have two different name values instead of year at ('DK Publishing Inc' & 'Gallimard')"
      ]
    },
    {
      "cell_type": "code",
      "metadata": {
        "id": "zAHvJV1qDt11",
        "cellView": "code"
      },
      "source": [
        "# well it's not just the years but also author and publisher names have been interchanged\n",
        "# let's correct this by inserting the right values into them\n",
        "\n",
        "# change values of book(209538)\n",
        "books.at[209538 ,'Publisher'] = 'DK Publishing Inc'\n",
        "books.at[209538 ,'Year-Of-Publication'] = 2000\n",
        "books.at[209538 ,'Book-Title'] = 'DK Readers: Creating the X-Men, How It All Began (Level 4: Proficient Readers)'\n",
        "books.at[209538 ,'Book-Author'] = 'Michael Teitelbaum'\n",
        "\n",
        "# change values of book(221678)\n",
        "books.at[221678 ,'Publisher'] = 'DK Publishing Inc'\n",
        "books.at[221678 ,'Year-Of-Publication'] = 2000\n",
        "books.at[221678 ,'Book-Title'] = 'DK Readers: Creating the X-Men, How Comic Books Come to Life (Level 4: Proficient Readers)'\n",
        "books.at[221678 ,'Book-Author'] = 'James Buckley'\n",
        "\n",
        "# change values of book(220731)\n",
        "books.at[220731 ,'Publisher'] = 'Gallimard'\n",
        "books.at[220731 ,'Year-Of-Publication'] = 2003\n",
        "books.at[220731 ,'Book-Title'] = 'Peuple du ciel - Suivi de Les bergers '\n",
        "books.at[220731 ,'Book-Author'] = 'Jean-Marie Gustave Le ClÃ?Â©zio'"
      ],
      "execution_count": 87,
      "outputs": []
    },
    {
      "cell_type": "code",
      "metadata": {
        "colab": {
          "base_uri": "https://localhost:8080/"
        },
        "id": "y06be3URb9Fi",
        "outputId": "1d6b554a-d769-4ec3-ce8d-94eaf8f6bae4"
      },
      "source": [
        "# confirming the change\n",
        "for index in [209538,221678,220731]:\n",
        "  print(books.iloc[index])\n",
        "  print('-'*30)"
      ],
      "execution_count": 88,
      "outputs": [
        {
          "output_type": "stream",
          "name": "stdout",
          "text": [
            "ISBN                                                          078946697X\n",
            "Book-Title             DK Readers: Creating the X-Men, How It All Beg...\n",
            "Book-Author                                           Michael Teitelbaum\n",
            "Year-Of-Publication                                                 2000\n",
            "Publisher                                              DK Publishing Inc\n",
            "Name: 209538, dtype: object\n",
            "------------------------------\n",
            "ISBN                                                          0789466953\n",
            "Book-Title             DK Readers: Creating the X-Men, How Comic Book...\n",
            "Book-Author                                                James Buckley\n",
            "Year-Of-Publication                                                 2000\n",
            "Publisher                                              DK Publishing Inc\n",
            "Name: 221678, dtype: object\n",
            "------------------------------\n",
            "ISBN                                               2070426769\n",
            "Book-Title             Peuple du ciel - Suivi de Les bergers \n",
            "Book-Author                   Jean-Marie Gustave Le ClÃ?Â©zio\n",
            "Year-Of-Publication                                      2003\n",
            "Publisher                                           Gallimard\n",
            "Name: 220731, dtype: object\n",
            "------------------------------\n"
          ]
        }
      ]
    },
    {
      "cell_type": "code",
      "metadata": {
        "id": "MNZQs4ZfexF-"
      },
      "source": [
        "# convert type to int\n",
        "books['Year-Of-Publication'] = books['Year-Of-Publication'].astype('int64')"
      ],
      "execution_count": 89,
      "outputs": []
    },
    {
      "cell_type": "markdown",
      "metadata": {
        "id": "f0_PuhSef8me"
      },
      "source": [
        "Now that we have taken care of one issue of replacing the charecters with theier respective year, we still have to deal with books that were published in the future ...."
      ]
    },
    {
      "cell_type": "code",
      "metadata": {
        "colab": {
          "base_uri": "https://localhost:8080/"
        },
        "id": "fe0G4TmShvld",
        "outputId": "2af3aeb8-fe01-483b-d001-ad6d9f1f590a"
      },
      "source": [
        "# before cleaning - sorted dates\n",
        "sorted_book_dates = sorted(list(books['Year-Of-Publication'].unique()))\n",
        "print(sorted_book_dates)"
      ],
      "execution_count": 90,
      "outputs": [
        {
          "output_type": "stream",
          "name": "stdout",
          "text": [
            "[0, 1376, 1378, 1806, 1897, 1900, 1901, 1902, 1904, 1906, 1908, 1909, 1910, 1911, 1914, 1917, 1919, 1920, 1921, 1922, 1923, 1924, 1925, 1926, 1927, 1928, 1929, 1930, 1931, 1932, 1933, 1934, 1935, 1936, 1937, 1938, 1939, 1940, 1941, 1942, 1943, 1944, 1945, 1946, 1947, 1948, 1949, 1950, 1951, 1952, 1953, 1954, 1955, 1956, 1957, 1958, 1959, 1960, 1961, 1962, 1963, 1964, 1965, 1966, 1967, 1968, 1969, 1970, 1971, 1972, 1973, 1974, 1975, 1976, 1977, 1978, 1979, 1980, 1981, 1982, 1983, 1984, 1985, 1986, 1987, 1988, 1989, 1990, 1991, 1992, 1993, 1994, 1995, 1996, 1997, 1998, 1999, 2000, 2001, 2002, 2003, 2004, 2005, 2006, 2008, 2010, 2011, 2012, 2020, 2021, 2024, 2026, 2030, 2037, 2038, 2050]\n"
          ]
        }
      ]
    },
    {
      "cell_type": "markdown",
      "metadata": {
        "id": "SzMr5gz7Pvld"
      },
      "source": [
        "From the sorted list we can see that our fataset consists of books being published during \" The Big Bang \" (year-of-publication = 0)\n",
        "and few from the future (year-of-publication > 2004),\n",
        "\n",
        "Sadly as this dataset was published in 2004(so no books from the future...)"
      ]
    },
    {
      "cell_type": "code",
      "metadata": {
        "colab": {
          "base_uri": "https://localhost:8080/"
        },
        "id": "JxURFrZHTw8V",
        "outputId": "b14d9b9c-8899-4b64-90c7-3a313b81477c"
      },
      "source": [
        "sorted_book_dates[:3]"
      ],
      "execution_count": 91,
      "outputs": [
        {
          "output_type": "execute_result",
          "data": {
            "text/plain": [
              "[0, 1376, 1378]"
            ]
          },
          "metadata": {},
          "execution_count": 91
        }
      ]
    },
    {
      "cell_type": "code",
      "metadata": {
        "colab": {
          "base_uri": "https://localhost:8080/",
          "height": 414
        },
        "id": "r3ItPlK0hu_v",
        "outputId": "199d6fd1-5a47-42fb-fb49-14416b7bef21"
      },
      "source": [
        "# book published during year 0 \n",
        "books.loc[books['Year-Of-Publication']==sorted_book_dates[0]]"
      ],
      "execution_count": 92,
      "outputs": [
        {
          "output_type": "execute_result",
          "data": {
            "text/html": [
              "<div>\n",
              "<style scoped>\n",
              "    .dataframe tbody tr th:only-of-type {\n",
              "        vertical-align: middle;\n",
              "    }\n",
              "\n",
              "    .dataframe tbody tr th {\n",
              "        vertical-align: top;\n",
              "    }\n",
              "\n",
              "    .dataframe thead th {\n",
              "        text-align: right;\n",
              "    }\n",
              "</style>\n",
              "<table border=\"1\" class=\"dataframe\">\n",
              "  <thead>\n",
              "    <tr style=\"text-align: right;\">\n",
              "      <th></th>\n",
              "      <th>ISBN</th>\n",
              "      <th>Book-Title</th>\n",
              "      <th>Book-Author</th>\n",
              "      <th>Year-Of-Publication</th>\n",
              "      <th>Publisher</th>\n",
              "    </tr>\n",
              "  </thead>\n",
              "  <tbody>\n",
              "    <tr>\n",
              "      <th>176</th>\n",
              "      <td>3150000335</td>\n",
              "      <td>Kabale Und Liebe</td>\n",
              "      <td>Schiller</td>\n",
              "      <td>0</td>\n",
              "      <td>Philipp Reclam, Jun Verlag GmbH</td>\n",
              "    </tr>\n",
              "    <tr>\n",
              "      <th>188</th>\n",
              "      <td>342311360X</td>\n",
              "      <td>Die Liebe in Den Zelten</td>\n",
              "      <td>Gabriel Garcia Marquez</td>\n",
              "      <td>0</td>\n",
              "      <td>Deutscher Taschenbuch Verlag (DTV)</td>\n",
              "    </tr>\n",
              "    <tr>\n",
              "      <th>288</th>\n",
              "      <td>0571197639</td>\n",
              "      <td>Poisonwood Bible Edition Uk</td>\n",
              "      <td>Barbara Kingsolver</td>\n",
              "      <td>0</td>\n",
              "      <td>Faber Faber Inc</td>\n",
              "    </tr>\n",
              "    <tr>\n",
              "      <th>351</th>\n",
              "      <td>3596214629</td>\n",
              "      <td>Herr Der Fliegen (Fiction, Poetry and Drama)</td>\n",
              "      <td>Golding</td>\n",
              "      <td>0</td>\n",
              "      <td>Fischer Taschenbuch Verlag GmbH</td>\n",
              "    </tr>\n",
              "    <tr>\n",
              "      <th>542</th>\n",
              "      <td>8845229041</td>\n",
              "      <td>Biblioteca Universale Rizzoli: Sulla Sponda De...</td>\n",
              "      <td>P Coelho</td>\n",
              "      <td>0</td>\n",
              "      <td>Fabbri - RCS Libri</td>\n",
              "    </tr>\n",
              "    <tr>\n",
              "      <th>...</th>\n",
              "      <td>...</td>\n",
              "      <td>...</td>\n",
              "      <td>...</td>\n",
              "      <td>...</td>\n",
              "      <td>...</td>\n",
              "    </tr>\n",
              "    <tr>\n",
              "      <th>270794</th>\n",
              "      <td>014029953X</td>\n",
              "      <td>Foe (Essential.penguin S.)</td>\n",
              "      <td>J.M. Coetzee</td>\n",
              "      <td>0</td>\n",
              "      <td>Penguin Books Ltd</td>\n",
              "    </tr>\n",
              "    <tr>\n",
              "      <th>270913</th>\n",
              "      <td>0340571187</td>\n",
              "      <td>Postmens House</td>\n",
              "      <td>Maggie Hemingway</td>\n",
              "      <td>0</td>\n",
              "      <td>Trafalgar Square</td>\n",
              "    </tr>\n",
              "    <tr>\n",
              "      <th>271094</th>\n",
              "      <td>8427201079</td>\n",
              "      <td>El Misterio De Sittaford</td>\n",
              "      <td>Agatha Christie</td>\n",
              "      <td>0</td>\n",
              "      <td>Editorial Molino</td>\n",
              "    </tr>\n",
              "    <tr>\n",
              "      <th>271182</th>\n",
              "      <td>0887781721</td>\n",
              "      <td>Tom Penny</td>\n",
              "      <td>Tony German</td>\n",
              "      <td>0</td>\n",
              "      <td>P. Martin Associates</td>\n",
              "    </tr>\n",
              "    <tr>\n",
              "      <th>271196</th>\n",
              "      <td>3150013763</td>\n",
              "      <td>Der Hofmeister</td>\n",
              "      <td>Jakob Lenz</td>\n",
              "      <td>0</td>\n",
              "      <td>Philipp Reclam, Jun Verlag GmbH</td>\n",
              "    </tr>\n",
              "  </tbody>\n",
              "</table>\n",
              "<p>4618 rows × 5 columns</p>\n",
              "</div>"
            ],
            "text/plain": [
              "              ISBN  ...                           Publisher\n",
              "176     3150000335  ...     Philipp Reclam, Jun Verlag GmbH\n",
              "188     342311360X  ...  Deutscher Taschenbuch Verlag (DTV)\n",
              "288     0571197639  ...                     Faber Faber Inc\n",
              "351     3596214629  ...     Fischer Taschenbuch Verlag GmbH\n",
              "542     8845229041  ...                  Fabbri - RCS Libri\n",
              "...            ...  ...                                 ...\n",
              "270794  014029953X  ...                   Penguin Books Ltd\n",
              "270913  0340571187  ...                    Trafalgar Square\n",
              "271094  8427201079  ...                    Editorial Molino\n",
              "271182  0887781721  ...                P. Martin Associates\n",
              "271196  3150013763  ...     Philipp Reclam, Jun Verlag GmbH\n",
              "\n",
              "[4618 rows x 5 columns]"
            ]
          },
          "metadata": {},
          "execution_count": 92
        }
      ]
    },
    {
      "cell_type": "markdown",
      "metadata": {
        "id": "NMTI04khh8IX"
      },
      "source": [
        "Well that just looks like a typo/error during data entry"
      ]
    },
    {
      "cell_type": "code",
      "metadata": {
        "colab": {
          "base_uri": "https://localhost:8080/",
          "height": 78
        },
        "id": "QzA7P3-qAZ0h",
        "outputId": "f00ca64e-5327-4f66-cc46-79d4c6d2dcff"
      },
      "source": [
        "# book published in 1376\n",
        "books.loc[books['Year-Of-Publication']==sorted_book_dates[1]]"
      ],
      "execution_count": 93,
      "outputs": [
        {
          "output_type": "execute_result",
          "data": {
            "text/html": [
              "<div>\n",
              "<style scoped>\n",
              "    .dataframe tbody tr th:only-of-type {\n",
              "        vertical-align: middle;\n",
              "    }\n",
              "\n",
              "    .dataframe tbody tr th {\n",
              "        vertical-align: top;\n",
              "    }\n",
              "\n",
              "    .dataframe thead th {\n",
              "        text-align: right;\n",
              "    }\n",
              "</style>\n",
              "<table border=\"1\" class=\"dataframe\">\n",
              "  <thead>\n",
              "    <tr style=\"text-align: right;\">\n",
              "      <th></th>\n",
              "      <th>ISBN</th>\n",
              "      <th>Book-Title</th>\n",
              "      <th>Book-Author</th>\n",
              "      <th>Year-Of-Publication</th>\n",
              "      <th>Publisher</th>\n",
              "    </tr>\n",
              "  </thead>\n",
              "  <tbody>\n",
              "    <tr>\n",
              "      <th>253750</th>\n",
              "      <td>964442011X</td>\n",
              "      <td>Tasht-i khun</td>\n",
              "      <td>IsmaÂ°il Fasih</td>\n",
              "      <td>1376</td>\n",
              "      <td>Nashr-i Alburz</td>\n",
              "    </tr>\n",
              "  </tbody>\n",
              "</table>\n",
              "</div>"
            ],
            "text/plain": [
              "              ISBN    Book-Title  ... Year-Of-Publication       Publisher\n",
              "253750  964442011X  Tasht-i khun  ...                1376  Nashr-i Alburz\n",
              "\n",
              "[1 rows x 5 columns]"
            ]
          },
          "metadata": {},
          "execution_count": 93
        }
      ]
    },
    {
      "cell_type": "markdown",
      "metadata": {
        "id": "7JKmVQfgfpBM"
      },
      "source": [
        "[IsmaÂ°il Fasih's book - Tasht-i khun was published in the year - 1997](https://ferdosi.com/pages/product/?lang=en&product=0&id=964442011X&title=Tasht-i+khun&ntitle=%D8%B7%D8%B4%D8%AA+%D8%AE%D9%88%D9%86)"
      ]
    },
    {
      "cell_type": "code",
      "metadata": {
        "colab": {
          "base_uri": "https://localhost:8080/",
          "height": 78
        },
        "id": "u-vSuHtcB2n5",
        "outputId": "dc23cdbb-e356-4b09-964e-b2829bf9b3c1"
      },
      "source": [
        "books.loc[books['Year-Of-Publication']==sorted_book_dates[2]]"
      ],
      "execution_count": 94,
      "outputs": [
        {
          "output_type": "execute_result",
          "data": {
            "text/html": [
              "<div>\n",
              "<style scoped>\n",
              "    .dataframe tbody tr th:only-of-type {\n",
              "        vertical-align: middle;\n",
              "    }\n",
              "\n",
              "    .dataframe tbody tr th {\n",
              "        vertical-align: top;\n",
              "    }\n",
              "\n",
              "    .dataframe thead th {\n",
              "        text-align: right;\n",
              "    }\n",
              "</style>\n",
              "<table border=\"1\" class=\"dataframe\">\n",
              "  <thead>\n",
              "    <tr style=\"text-align: right;\">\n",
              "      <th></th>\n",
              "      <th>ISBN</th>\n",
              "      <th>Book-Title</th>\n",
              "      <th>Book-Author</th>\n",
              "      <th>Year-Of-Publication</th>\n",
              "      <th>Publisher</th>\n",
              "    </tr>\n",
              "  </thead>\n",
              "  <tbody>\n",
              "    <tr>\n",
              "      <th>227531</th>\n",
              "      <td>9643112136</td>\n",
              "      <td>Dalan-i bihisht (Dastan-i Irani)</td>\n",
              "      <td>Nazi Safavi</td>\n",
              "      <td>1378</td>\n",
              "      <td>Intisharat-i Quqnus</td>\n",
              "    </tr>\n",
              "  </tbody>\n",
              "</table>\n",
              "</div>"
            ],
            "text/plain": [
              "              ISBN  ...            Publisher\n",
              "227531  9643112136  ...  Intisharat-i Quqnus\n",
              "\n",
              "[1 rows x 5 columns]"
            ]
          },
          "metadata": {},
          "execution_count": 94
        }
      ]
    },
    {
      "cell_type": "markdown",
      "metadata": {
        "id": "d1L6K3ytfY_l"
      },
      "source": [
        "[Nazi Safavi book - Dalan-i bihisht (Dastan-i Irani) was published in the year 1999](https://www.goodreads.com/author/show/5494214.Nazi_Safavi)"
      ]
    },
    {
      "cell_type": "code",
      "metadata": {
        "id": "90zn8ylEjZs-"
      },
      "source": [
        "# correcting years of books in dataset\n",
        "\n",
        "# book - Tasht-i khun\n",
        "books.loc[books['Year-Of-Publication']==sorted_book_dates[1], 'Year-Of-Publication'] = 1997\n",
        "# book - Dalan-i bihisht (Dastan-i Irani)\n",
        "books.loc[books['Year-Of-Publication']==sorted_book_dates[2], 'Year-Of-Publication'] = 1999\n",
        "\n",
        "# replace the null and outliers with the mode(year-of-publication)\n",
        "books.loc[(books['Year-Of-Publication'] > 2004) , 'Year-Of-Publication'] = 2002\n",
        "books.loc[(books['Year-Of-Publication'] == 0), 'Year-Of-Publication'] = 2002"
      ],
      "execution_count": 95,
      "outputs": []
    },
    {
      "cell_type": "code",
      "metadata": {
        "colab": {
          "base_uri": "https://localhost:8080/"
        },
        "id": "ZScCurgTjsGu",
        "outputId": "f5a50a15-afc0-4018-9cde-2f70ccd305cf"
      },
      "source": [
        "# after cleaning - sorted dates\n",
        "print(sorted(list(books['Year-Of-Publication'].unique())))"
      ],
      "execution_count": 96,
      "outputs": [
        {
          "output_type": "stream",
          "name": "stdout",
          "text": [
            "[1806, 1897, 1900, 1901, 1902, 1904, 1906, 1908, 1909, 1910, 1911, 1914, 1917, 1919, 1920, 1921, 1922, 1923, 1924, 1925, 1926, 1927, 1928, 1929, 1930, 1931, 1932, 1933, 1934, 1935, 1936, 1937, 1938, 1939, 1940, 1941, 1942, 1943, 1944, 1945, 1946, 1947, 1948, 1949, 1950, 1951, 1952, 1953, 1954, 1955, 1956, 1957, 1958, 1959, 1960, 1961, 1962, 1963, 1964, 1965, 1966, 1967, 1968, 1969, 1970, 1971, 1972, 1973, 1974, 1975, 1976, 1977, 1978, 1979, 1980, 1981, 1982, 1983, 1984, 1985, 1986, 1987, 1988, 1989, 1990, 1991, 1992, 1993, 1994, 1995, 1996, 1997, 1998, 1999, 2000, 2001, 2002, 2003, 2004]\n"
          ]
        }
      ]
    },
    {
      "cell_type": "markdown",
      "metadata": {
        "id": "lqcXVWJqi3s-"
      },
      "source": [
        "after observing the unique years we can confirm that our corrections have taken effect"
      ]
    },
    {
      "cell_type": "code",
      "metadata": {
        "colab": {
          "base_uri": "https://localhost:8080/",
          "height": 232
        },
        "id": "6wVjNmu-iBwB",
        "outputId": "6325b044-faa2-4925-a5a5-3423a9411176"
      },
      "source": [
        "  # plot the number of books published year-on-year\n",
        "  plt.figure(figsize=(110,15))\n",
        "  sns.countplot(x='Year-Of-Publication',data=books,palette='Paired')\n",
        "  plt.title('Number of Books published each year ')"
      ],
      "execution_count": 97,
      "outputs": [
        {
          "output_type": "execute_result",
          "data": {
            "text/plain": [
              "Text(0.5, 1.0, 'Number of Books published each year ')"
            ]
          },
          "metadata": {},
          "execution_count": 97
        },
        {
          "output_type": "display_data",
          "data": {
            "image/png": "[encoded data removed]",
            "text/plain": [
              "<Figure size 7920x1080 with 1 Axes>"
            ]
          },
          "metadata": {
            "needs_background": "light"
          }
        }
      ]
    },
    {
      "cell_type": "code",
      "metadata": {
        "id": "g6YvWCWejwDN"
      },
      "source": [
        "# Upper casing all alphabets in ISBN\n",
        "books['ISBN'] = books['ISBN'].str.upper()"
      ],
      "execution_count": 98,
      "outputs": []
    },
    {
      "cell_type": "code",
      "metadata": {
        "id": "EOpnZpdvFfk0",
        "colab": {
          "base_uri": "https://localhost:8080/"
        },
        "outputId": "9388126b-6b0f-4a80-b518-a89707507f93"
      },
      "source": [
        "# Drop duplicate rows\n",
        "books.drop_duplicates(keep='last', inplace=True) \n",
        "books.reset_index(drop = True, inplace = True)\n",
        "\n",
        "# size of df after dropping\n",
        "print(f'Shape of dataframe after dropping duplicates : {books.shape}')\n",
        "print(f'Number of duplicates dropped are : {271360 - books.shape[0]}')"
      ],
      "execution_count": 99,
      "outputs": [
        {
          "output_type": "stream",
          "name": "stdout",
          "text": [
            "Shape of dataframe after dropping duplicates : (271047, 5)\n",
            "Number of duplicates dropped are : 313\n"
          ]
        }
      ]
    },
    {
      "cell_type": "code",
      "metadata": {
        "id": "k6Je_9t6die4"
      },
      "source": [
        "# checking ISBN for special charecters\n",
        "def specialCharDetector(d_frame,col_v):\n",
        "  flag = 0\n",
        "  reg = \"[^A-Za-z0-9]\"\n",
        "\n",
        "  # loop through each item(isbn) in the given col\n",
        "  for x in d_frame[col_v]:\n",
        "      z = re.search(reg,x)    \n",
        "      if z:\n",
        "          flag = 1\n",
        "  # if flag is set to 1 then there are special charecters\n",
        "  if flag == 1:\n",
        "      print(f\" Special charecters found in {col_v}\")\n",
        "  else:\n",
        "      print(f\" No special charecters found in {col_v}\")"
      ],
      "execution_count": 100,
      "outputs": []
    },
    {
      "cell_type": "code",
      "metadata": {
        "colab": {
          "base_uri": "https://localhost:8080/"
        },
        "id": "PdH-_cjVb8P3",
        "outputId": "c6e95049-cc31-4e8d-c1a6-eb4e058053ed"
      },
      "source": [
        "specialCharDetector(books,'ISBN')"
      ],
      "execution_count": 101,
      "outputs": [
        {
          "output_type": "stream",
          "name": "stdout",
          "text": [
            " Special charecters found in ISBN\n"
          ]
        }
      ]
    },
    {
      "cell_type": "markdown",
      "metadata": {
        "id": "p1Hdx_EqlxZj"
      },
      "source": [
        "[but isbn mustn't contain special charecters ](http://www-math.ucdenver.edu/~wcherowi/jcorner/isbn.html)"
      ]
    },
    {
      "cell_type": "code",
      "metadata": {
        "id": "DWii3w2HHVm7"
      },
      "source": [
        "# removing extra characters from ISBN (from ratings dataset) existing in books dataset\n",
        "def removeSpecialChar(df_):\n",
        "  bookISBN = df_['ISBN'].tolist() \n",
        "  reg = \"[^A-Za-z0-9]\" \n",
        "  for index, row_Value in df_.iterrows():\n",
        "      z = re.search(reg, row_Value['ISBN'])    \n",
        "      if z:\n",
        "          f = re.sub(reg,\"\",row_Value['ISBN'])\n",
        "          if f in bookISBN:\n",
        "              df_.at[index , 'ISBN'] = f"
      ],
      "execution_count": 102,
      "outputs": []
    },
    {
      "cell_type": "code",
      "metadata": {
        "id": "vf7ElmHfmgO2"
      },
      "source": [
        "# remove special charecters\n",
        "removeSpecialChar(books)"
      ],
      "execution_count": 103,
      "outputs": []
    },
    {
      "cell_type": "code",
      "metadata": {
        "id": "IUa1tFh8VFSR"
      },
      "source": [
        "# count plot values on required axis based off  on the dataframe\n",
        "def CountPlotN(col,data,n,title,axis_flag=0):\n",
        "  \n",
        "  ''' count plot values on required axis\n",
        "  axis_flag - specify axis-(0)=y_axis ; (1)=x_axis, \n",
        "  data - dataframe,\n",
        "  n - select the topN values to be displaced\n",
        "  title - specify the title to be displayed '''\n",
        "\n",
        "  plt.figure(figsize=(15,7))\n",
        "  order = pd.value_counts(data[col]).iloc[:n].index\n",
        "  # change axis based on flag\n",
        "  if axis_flag:\n",
        "    sns.countplot(x=col,data=data,order=order,palette='Paired')\n",
        "  else:\n",
        "    sns.countplot(y=col,data=data,order=order,palette='Paired')\n",
        "  plt.title(title)"
      ],
      "execution_count": 104,
      "outputs": []
    },
    {
      "cell_type": "code",
      "metadata": {
        "colab": {
          "base_uri": "https://localhost:8080/",
          "height": 457
        },
        "id": "awC8qGROa9EE",
        "outputId": "558e3b1d-9d3c-4459-e068-6e36e871e979"
      },
      "source": [
        "# plot the author whose books were read the most\n",
        "CountPlotN('Book-Author',books,15,'Top 15 Authors')"
      ],
      "execution_count": 105,
      "outputs": [
        {
          "output_type": "display_data",
          "data": {
            "image/png": "[encoded data removed]",
            "text/plain": [
              "<Figure size 1080x504 with 1 Axes>"
            ]
          },
          "metadata": {
            "needs_background": "light"
          }
        }
      ]
    },
    {
      "cell_type": "code",
      "metadata": {
        "colab": {
          "base_uri": "https://localhost:8080/",
          "height": 457
        },
        "id": "LvZnfH-Lca3M",
        "outputId": "04b681d7-27ca-47d6-82c4-a4be54a6c692"
      },
      "source": [
        "# publishers whoose books were read by the most readers\n",
        "CountPlotN('Publisher',books,15,'Top 15 Publishers')"
      ],
      "execution_count": 106,
      "outputs": [
        {
          "output_type": "display_data",
          "data": {
            "image/png": "[encoded data removed]",
            "text/plain": [
              "<Figure size 1080x504 with 1 Axes>"
            ]
          },
          "metadata": {
            "needs_background": "light"
          }
        }
      ]
    },
    {
      "cell_type": "markdown",
      "metadata": {
        "id": "9gT1pJ6noB-M"
      },
      "source": [
        "### Users data cleaning"
      ]
    },
    {
      "cell_type": "code",
      "metadata": {
        "colab": {
          "base_uri": "https://localhost:8080/",
          "height": 202
        },
        "id": "qPVX7V5K5o85",
        "outputId": "78bd8ae5-42b8-42c3-cb41-19e5c5aedcea"
      },
      "source": [
        "# look at the users\n",
        "users.head()"
      ],
      "execution_count": 107,
      "outputs": [
        {
          "output_type": "execute_result",
          "data": {
            "text/html": [
              "<div>\n",
              "<style scoped>\n",
              "    .dataframe tbody tr th:only-of-type {\n",
              "        vertical-align: middle;\n",
              "    }\n",
              "\n",
              "    .dataframe tbody tr th {\n",
              "        vertical-align: top;\n",
              "    }\n",
              "\n",
              "    .dataframe thead th {\n",
              "        text-align: right;\n",
              "    }\n",
              "</style>\n",
              "<table border=\"1\" class=\"dataframe\">\n",
              "  <thead>\n",
              "    <tr style=\"text-align: right;\">\n",
              "      <th></th>\n",
              "      <th>User-ID</th>\n",
              "      <th>Location</th>\n",
              "      <th>Age</th>\n",
              "    </tr>\n",
              "  </thead>\n",
              "  <tbody>\n",
              "    <tr>\n",
              "      <th>0</th>\n",
              "      <td>1</td>\n",
              "      <td>nyc, new york, usa</td>\n",
              "      <td>NaN</td>\n",
              "    </tr>\n",
              "    <tr>\n",
              "      <th>1</th>\n",
              "      <td>2</td>\n",
              "      <td>stockton, california, usa</td>\n",
              "      <td>18.0</td>\n",
              "    </tr>\n",
              "    <tr>\n",
              "      <th>2</th>\n",
              "      <td>3</td>\n",
              "      <td>moscow, yukon territory, russia</td>\n",
              "      <td>NaN</td>\n",
              "    </tr>\n",
              "    <tr>\n",
              "      <th>3</th>\n",
              "      <td>4</td>\n",
              "      <td>porto, v.n.gaia, portugal</td>\n",
              "      <td>17.0</td>\n",
              "    </tr>\n",
              "    <tr>\n",
              "      <th>4</th>\n",
              "      <td>5</td>\n",
              "      <td>farnborough, hants, united kingdom</td>\n",
              "      <td>NaN</td>\n",
              "    </tr>\n",
              "  </tbody>\n",
              "</table>\n",
              "</div>"
            ],
            "text/plain": [
              "   User-ID                            Location   Age\n",
              "0        1                  nyc, new york, usa   NaN\n",
              "1        2           stockton, california, usa  18.0\n",
              "2        3     moscow, yukon territory, russia   NaN\n",
              "3        4           porto, v.n.gaia, portugal  17.0\n",
              "4        5  farnborough, hants, united kingdom   NaN"
            ]
          },
          "metadata": {},
          "execution_count": 107
        }
      ]
    },
    {
      "cell_type": "code",
      "metadata": {
        "colab": {
          "base_uri": "https://localhost:8080/"
        },
        "id": "KES424gbnLtU",
        "outputId": "aa951d02-2fd2-4a52-8f9b-ec8e3da746da"
      },
      "source": [
        "# info\n",
        "users.info()"
      ],
      "execution_count": 108,
      "outputs": [
        {
          "output_type": "stream",
          "name": "stdout",
          "text": [
            "<class 'pandas.core.frame.DataFrame'>\n",
            "RangeIndex: 278858 entries, 0 to 278857\n",
            "Data columns (total 3 columns):\n",
            " #   Column    Non-Null Count   Dtype  \n",
            "---  ------    --------------   -----  \n",
            " 0   User-ID   278858 non-null  int64  \n",
            " 1   Location  278858 non-null  object \n",
            " 2   Age       168096 non-null  float64\n",
            "dtypes: float64(1), int64(1), object(1)\n",
            "memory usage: 6.4+ MB\n"
          ]
        }
      ]
    },
    {
      "cell_type": "code",
      "metadata": {
        "colab": {
          "base_uri": "https://localhost:8080/"
        },
        "id": "4xJkzz8woLSd",
        "outputId": "4b75d7ff-1666-4575-d1d9-b2cb9c7f6cb6"
      },
      "source": [
        "print(f\" Users dataset shape: {users.shape}\")\n",
        "print(f\" Columns of users dataset : {list(users.columns)}\")"
      ],
      "execution_count": 109,
      "outputs": [
        {
          "output_type": "stream",
          "name": "stdout",
          "text": [
            " Users dataset shape: (278858, 3)\n",
            " Columns of users dataset : ['User-ID', 'Location', 'Age']\n"
          ]
        }
      ]
    },
    {
      "cell_type": "code",
      "metadata": {
        "colab": {
          "base_uri": "https://localhost:8080/"
        },
        "id": "GDWkv0HxrDPj",
        "outputId": "ea66d01e-546b-4c96-d4e7-ec2346b3daf7"
      },
      "source": [
        "# Checking null values\n",
        "print(users.isna().sum())   "
      ],
      "execution_count": 110,
      "outputs": [
        {
          "output_type": "stream",
          "name": "stdout",
          "text": [
            "User-ID          0\n",
            "Location         0\n",
            "Age         110762\n",
            "dtype: int64\n"
          ]
        }
      ]
    },
    {
      "cell_type": "code",
      "metadata": {
        "colab": {
          "base_uri": "https://localhost:8080/"
        },
        "id": "4dExAiyVrGVG",
        "outputId": "4d71db0e-3e98-4125-f3c0-ce16f8e174d4"
      },
      "source": [
        "# Check for all unique values present in Age column\n",
        "print(sorted(list(users['Age'].unique())))"
      ],
      "execution_count": 111,
      "outputs": [
        {
          "output_type": "stream",
          "name": "stdout",
          "text": [
            "[nan, 0.0, 1.0, 2.0, 3.0, 4.0, 5.0, 6.0, 7.0, 8.0, 9.0, 10.0, 11.0, 12.0, 13.0, 14.0, 15.0, 16.0, 17.0, 18.0, 19.0, 20.0, 21.0, 22.0, 23.0, 24.0, 25.0, 26.0, 27.0, 28.0, 29.0, 30.0, 31.0, 32.0, 33.0, 34.0, 35.0, 36.0, 37.0, 38.0, 39.0, 40.0, 41.0, 42.0, 43.0, 44.0, 45.0, 46.0, 47.0, 48.0, 49.0, 50.0, 51.0, 52.0, 53.0, 54.0, 55.0, 56.0, 57.0, 58.0, 59.0, 60.0, 61.0, 62.0, 63.0, 64.0, 65.0, 66.0, 67.0, 68.0, 69.0, 70.0, 71.0, 72.0, 73.0, 74.0, 75.0, 76.0, 77.0, 78.0, 79.0, 80.0, 81.0, 82.0, 83.0, 84.0, 85.0, 86.0, 87.0, 88.0, 89.0, 90.0, 91.0, 92.0, 93.0, 94.0, 95.0, 96.0, 97.0, 98.0, 99.0, 100.0, 101.0, 102.0, 103.0, 104.0, 105.0, 106.0, 107.0, 108.0, 109.0, 110.0, 111.0, 113.0, 114.0, 115.0, 116.0, 118.0, 119.0, 123.0, 124.0, 127.0, 128.0, 132.0, 133.0, 136.0, 137.0, 138.0, 140.0, 141.0, 143.0, 146.0, 147.0, 148.0, 151.0, 152.0, 156.0, 157.0, 159.0, 162.0, 168.0, 172.0, 175.0, 183.0, 186.0, 189.0, 199.0, 200.0, 201.0, 204.0, 207.0, 208.0, 209.0, 210.0, 212.0, 219.0, 220.0, 223.0, 226.0, 228.0, 229.0, 230.0, 231.0, 237.0, 239.0, 244.0]\n"
          ]
        }
      ]
    },
    {
      "cell_type": "code",
      "metadata": {
        "colab": {
          "base_uri": "https://localhost:8080/",
          "height": 312
        },
        "id": "nplnozRTXocf",
        "outputId": "e9cc62d2-9d47-488e-e949-83570aecddaf"
      },
      "source": [
        "# Dist Plot of users age\n",
        "sns.distplot(users.Age)\n",
        "plt.title('Distribution Plot of users age ')"
      ],
      "execution_count": 112,
      "outputs": [
        {
          "output_type": "execute_result",
          "data": {
            "text/plain": [
              "Text(0.5, 1.0, 'Distribution Plot of users age ')"
            ]
          },
          "metadata": {},
          "execution_count": 112
        },
        {
          "output_type": "display_data",
          "data": {
            "image/png": "[encoded data removed]",
            "text/plain": [
              "<Figure size 432x288 with 1 Axes>"
            ]
          },
          "metadata": {
            "needs_background": "light"
          }
        }
      ]
    },
    {
      "cell_type": "code",
      "metadata": {
        "id": "a8LUys58pLqx"
      },
      "source": [
        "# CountPlotN('Age',users,len(users),'bal',1)"
      ],
      "execution_count": 113,
      "outputs": []
    },
    {
      "cell_type": "code",
      "metadata": {
        "colab": {
          "base_uri": "https://localhost:8080/"
        },
        "id": "cpnIB00yQPZy",
        "outputId": "dadc8766-305c-4f9c-eeca-50cb440f599c"
      },
      "source": [
        "# claclulate the mean users age \n",
        "mean_user_age = round( users[(users['Age'] <= 90) & (users['Age'] >= 10)]['Age'].mean())\n",
        "mean_user_age"
      ],
      "execution_count": 114,
      "outputs": [
        {
          "output_type": "execute_result",
          "data": {
            "text/plain": [
              "35"
            ]
          },
          "metadata": {},
          "execution_count": 114
        }
      ]
    },
    {
      "cell_type": "code",
      "metadata": {
        "id": "cjoYJ8_jST85"
      },
      "source": [
        "# outliers with age grater than 80 & age less than 10 years are substitued with mean users age\n",
        "users.loc[(users['Age'] > 80) | (users['Age'] < 10 ), 'Age'] = mean_user_age\n",
        "# filling null values with mean\n",
        "users['Age'] = users['Age'].fillna(mean_user_age)     \n",
        "# finally changing Datatype to int\n",
        "users['Age'] = users['Age'].astype(int)       "
      ],
      "execution_count": 115,
      "outputs": []
    },
    {
      "cell_type": "code",
      "metadata": {
        "colab": {
          "base_uri": "https://localhost:8080/"
        },
        "id": "c-Q9LH5iS-RW",
        "outputId": "3d283267-97bf-435e-cc24-277faa89e7f3"
      },
      "source": [
        "# double check to see if missing values are present\n",
        "users['Age'].isna().sum()"
      ],
      "execution_count": 116,
      "outputs": [
        {
          "output_type": "execute_result",
          "data": {
            "text/plain": [
              "0"
            ]
          },
          "metadata": {},
          "execution_count": 116
        }
      ]
    },
    {
      "cell_type": "code",
      "metadata": {
        "colab": {
          "base_uri": "https://localhost:8080/",
          "height": 312
        },
        "id": "A55UQEloX46L",
        "outputId": "c95c9e38-505e-4976-8c2d-7e1b055030e1"
      },
      "source": [
        "# Dist Plot of users age after fillings missing values and treating outliers\n",
        "sns.distplot(users.Age)\n",
        "plt.title('Distribution Plot of users age after mean replacement')"
      ],
      "execution_count": 117,
      "outputs": [
        {
          "output_type": "execute_result",
          "data": {
            "text/plain": [
              "Text(0.5, 1.0, 'Distribution Plot of users age after mean replacement')"
            ]
          },
          "metadata": {},
          "execution_count": 117
        },
        {
          "output_type": "display_data",
          "data": {
            "image/png": "[encoded data removed]",
            "text/plain": [
              "<Figure size 432x288 with 1 Axes>"
            ]
          },
          "metadata": {
            "needs_background": "light"
          }
        }
      ]
    },
    {
      "cell_type": "code",
      "metadata": {
        "id": "uYqPNO_IpotE"
      },
      "source": [
        "# CountPlotN('Age',users,len(users),'bal',1)"
      ],
      "execution_count": 118,
      "outputs": []
    },
    {
      "cell_type": "markdown",
      "metadata": {
        "id": "iy431kq9T0Nr"
      },
      "source": [
        "Well we have successfully handled the removal of all the existing null values in the age column"
      ]
    },
    {
      "cell_type": "code",
      "metadata": {
        "id": "qR9bMj6FsHVT",
        "colab": {
          "base_uri": "https://localhost:8080/"
        },
        "outputId": "0df367ac-f147-480b-92f6-f473b7f522c4"
      },
      "source": [
        "# in the dataset allthe city-state-country are gropued together \n",
        "# the code below will help split these into their respective categorys and add them into the df as cols\n",
        "\n",
        "# split users location\n",
        "list_ = users.Location.str.split(', ')\n",
        "\n",
        "# lists of city,state & country\n",
        "city = []\n",
        "state = []\n",
        "country = []\n",
        "count_no_state = 0    \n",
        "count_no_country = 0\n",
        "\n",
        "# remove invalid entries too\n",
        "for i in range(0,len(list_)):\n",
        "    if list_[i][0] == ' ' or list_[i][0] == '' or list_[i][0]=='n/a' or list_[i][0] == ',':  \n",
        "        city.append('other')\n",
        "    else:\n",
        "        city.append(list_[i][0].lower())\n",
        "\n",
        "    if(len(list_[i])<2):\n",
        "        state.append('other')\n",
        "        country.append('other')\n",
        "        count_no_state += 1\n",
        "        count_no_country += 1\n",
        "    else:\n",
        "        if list_[i][1] == ' ' or list_[i][1] == '' or list_[i][1]=='n/a' or list_[i][1] == ',': \n",
        "            state.append('other')\n",
        "            count_no_state += 1            \n",
        "        else:\n",
        "            state.append(list_[i][1].lower())\n",
        "        \n",
        "        if(len(list_[i])<3):\n",
        "            country.append('other')\n",
        "            count_no_country += 1\n",
        "        else:\n",
        "            if list_[i][2] == ''or list_[i][1] == ',' or list_[i][2] == ' ' or list_[i][2] == 'n/a':\n",
        "                country.append('other')\n",
        "                count_no_country += 1\n",
        "            else:\n",
        "                country.append(list_[i][2].lower())\n",
        "\n",
        "# drop the locations col\n",
        "users = users.drop('Location',axis=1)\n",
        "\n",
        "temp = []\n",
        "for ent in city:\n",
        "    # handling cases where city/state entries from city list as state is already given \n",
        "    c = ent.split('/')            \n",
        "    temp.append(c[0])\n",
        "\n",
        "# create respective dataframes\n",
        "df_city = pd.DataFrame(temp,columns=['City'])\n",
        "df_state = pd.DataFrame(state,columns=['State'])\n",
        "df_country = pd.DataFrame(country,columns=['Country'])\n",
        "\n",
        "# add these newly created df to users df\n",
        "users = pd.concat([users, df_city], axis=1)\n",
        "users = pd.concat([users, df_state], axis=1)\n",
        "users = pd.concat([users, df_country], axis=1)\n",
        "\n",
        "# printing the number of countries didnt have any values \n",
        "print(count_no_country) \n",
        "# printing the states which didnt have any   \n",
        "print(count_no_state)     "
      ],
      "execution_count": 119,
      "outputs": [
        {
          "output_type": "stream",
          "name": "stdout",
          "text": [
            "4659\n",
            "16044\n"
          ]
        }
      ]
    },
    {
      "cell_type": "code",
      "metadata": {
        "id": "sIHIkW7itKtv",
        "colab": {
          "base_uri": "https://localhost:8080/"
        },
        "outputId": "e73c0ead-ada4-4e48-d25b-ea116cf3a0a4"
      },
      "source": [
        "# Drop duplicate rows\n",
        "users.drop_duplicates(keep='last', inplace=True)\n",
        "users.reset_index(drop=True, inplace=True)\n",
        "\n",
        "# size of df after dropping\n",
        "print(f'Shape of dataframe after dropping duplicates : {users.shape}')\n",
        "print(f'Number of duplicates dropped are : {278858 - users.shape[0]}')"
      ],
      "execution_count": 120,
      "outputs": [
        {
          "output_type": "stream",
          "name": "stdout",
          "text": [
            "Shape of dataframe after dropping duplicates : (278858, 5)\n",
            "Number of duplicates dropped are : 0\n"
          ]
        }
      ]
    },
    {
      "cell_type": "code",
      "metadata": {
        "id": "WA3IebWnUu1A",
        "colab": {
          "base_uri": "https://localhost:8080/",
          "height": 457
        },
        "outputId": "a328b110-9718-4df5-cc28-14d6d62bdbdc"
      },
      "source": [
        "# readers across various countries\n",
        "CountPlotN('Country',users,15,'Number of users across various country(Top 15) ')"
      ],
      "execution_count": 121,
      "outputs": [
        {
          "output_type": "display_data",
          "data": {
            "image/png": "[encoded data removed]",
            "text/plain": [
              "<Figure size 1080x504 with 1 Axes>"
            ]
          },
          "metadata": {
            "needs_background": "light"
          }
        }
      ]
    },
    {
      "cell_type": "code",
      "metadata": {
        "id": "JJl3B_iMWo4G",
        "colab": {
          "base_uri": "https://localhost:8080/",
          "height": 457
        },
        "outputId": "dd16850b-be19-452a-f6a5-d42151009a7c"
      },
      "source": [
        "# excluding USA\n",
        "CountPlotN('Country',users[users['Country']!='usa'],15,'Number of users across various country (Top 15) Excluding USA')"
      ],
      "execution_count": 122,
      "outputs": [
        {
          "output_type": "display_data",
          "data": {
            "image/png": "[encoded data removed]",
            "text/plain": [
              "<Figure size 1080x504 with 1 Axes>"
            ]
          },
          "metadata": {
            "needs_background": "light"
          }
        }
      ]
    },
    {
      "cell_type": "code",
      "metadata": {
        "id": "uJdxYc5wYzCl",
        "colab": {
          "base_uri": "https://localhost:8080/",
          "height": 457
        },
        "outputId": "2a0f87f6-4408-4e11-a548-300fa3b0eb50"
      },
      "source": [
        "# states with most readers globally\n",
        "CountPlotN('State',users,15,'Number of readers from each state worldwide (Top 15)')"
      ],
      "execution_count": 123,
      "outputs": [
        {
          "output_type": "display_data",
          "data": {
            "image/png": "[encoded data removed]",
            "text/plain": [
              "<Figure size 1080x504 with 1 Axes>"
            ]
          },
          "metadata": {
            "needs_background": "light"
          }
        }
      ]
    },
    {
      "cell_type": "code",
      "metadata": {
        "id": "h0DECwg6aQRA",
        "colab": {
          "base_uri": "https://localhost:8080/",
          "height": 457
        },
        "outputId": "a5bab8b5-b15e-49d5-847b-3b5f22b9d418"
      },
      "source": [
        "# states with most readers statewise in usa\n",
        "CountPlotN('State',users[users['Country']=='usa'],15,'Number of readers among various states of USA (Top 15)')"
      ],
      "execution_count": 124,
      "outputs": [
        {
          "output_type": "display_data",
          "data": {
            "image/png": "[encoded data removed]",
            "text/plain": [
              "<Figure size 1080x504 with 1 Axes>"
            ]
          },
          "metadata": {
            "needs_background": "light"
          }
        }
      ]
    },
    {
      "cell_type": "code",
      "metadata": {
        "id": "ETkVTzwBeDh2",
        "colab": {
          "base_uri": "https://localhost:8080/",
          "height": 457
        },
        "outputId": "e06fb05c-9008-4bf0-ba95-608d43441e3f"
      },
      "source": [
        "# cities with most readers\n",
        "CountPlotN('City',users,15,'Number of readers from each city (Top 15)')"
      ],
      "execution_count": 125,
      "outputs": [
        {
          "output_type": "display_data",
          "data": {
            "image/png": "[encoded data removed]",
            "text/plain": [
              "<Figure size 1080x504 with 1 Axes>"
            ]
          },
          "metadata": {
            "needs_background": "light"
          }
        }
      ]
    },
    {
      "cell_type": "markdown",
      "metadata": {
        "id": "_G9kp_4Dtaaa"
      },
      "source": [
        "### Ratings data cleaning"
      ]
    },
    {
      "cell_type": "code",
      "metadata": {
        "id": "ssd6Qh1D5v7E",
        "colab": {
          "base_uri": "https://localhost:8080/",
          "height": 202
        },
        "outputId": "c5711536-d727-419c-dbb9-5fbdb8da17ba"
      },
      "source": [
        "# look at the ratings data\n",
        "ratings.head()"
      ],
      "execution_count": 126,
      "outputs": [
        {
          "output_type": "execute_result",
          "data": {
            "text/html": [
              "<div>\n",
              "<style scoped>\n",
              "    .dataframe tbody tr th:only-of-type {\n",
              "        vertical-align: middle;\n",
              "    }\n",
              "\n",
              "    .dataframe tbody tr th {\n",
              "        vertical-align: top;\n",
              "    }\n",
              "\n",
              "    .dataframe thead th {\n",
              "        text-align: right;\n",
              "    }\n",
              "</style>\n",
              "<table border=\"1\" class=\"dataframe\">\n",
              "  <thead>\n",
              "    <tr style=\"text-align: right;\">\n",
              "      <th></th>\n",
              "      <th>User-ID</th>\n",
              "      <th>ISBN</th>\n",
              "      <th>Book-Rating</th>\n",
              "    </tr>\n",
              "  </thead>\n",
              "  <tbody>\n",
              "    <tr>\n",
              "      <th>0</th>\n",
              "      <td>276725</td>\n",
              "      <td>034545104X</td>\n",
              "      <td>0</td>\n",
              "    </tr>\n",
              "    <tr>\n",
              "      <th>1</th>\n",
              "      <td>276726</td>\n",
              "      <td>0155061224</td>\n",
              "      <td>5</td>\n",
              "    </tr>\n",
              "    <tr>\n",
              "      <th>2</th>\n",
              "      <td>276727</td>\n",
              "      <td>0446520802</td>\n",
              "      <td>0</td>\n",
              "    </tr>\n",
              "    <tr>\n",
              "      <th>3</th>\n",
              "      <td>276729</td>\n",
              "      <td>052165615X</td>\n",
              "      <td>3</td>\n",
              "    </tr>\n",
              "    <tr>\n",
              "      <th>4</th>\n",
              "      <td>276729</td>\n",
              "      <td>0521795028</td>\n",
              "      <td>6</td>\n",
              "    </tr>\n",
              "  </tbody>\n",
              "</table>\n",
              "</div>"
            ],
            "text/plain": [
              "   User-ID        ISBN  Book-Rating\n",
              "0   276725  034545104X            0\n",
              "1   276726  0155061224            5\n",
              "2   276727  0446520802            0\n",
              "3   276729  052165615X            3\n",
              "4   276729  0521795028            6"
            ]
          },
          "metadata": {},
          "execution_count": 126
        }
      ]
    },
    {
      "cell_type": "code",
      "metadata": {
        "id": "4aONyU0_thJ_",
        "colab": {
          "base_uri": "https://localhost:8080/"
        },
        "outputId": "83930769-c47f-43e8-a3a9-bc601d4d7de3"
      },
      "source": [
        "# info\n",
        "ratings.info()"
      ],
      "execution_count": 127,
      "outputs": [
        {
          "output_type": "stream",
          "name": "stdout",
          "text": [
            "<class 'pandas.core.frame.DataFrame'>\n",
            "RangeIndex: 1149780 entries, 0 to 1149779\n",
            "Data columns (total 3 columns):\n",
            " #   Column       Non-Null Count    Dtype \n",
            "---  ------       --------------    ----- \n",
            " 0   User-ID      1149780 non-null  int64 \n",
            " 1   ISBN         1149780 non-null  object\n",
            " 2   Book-Rating  1149780 non-null  int64 \n",
            "dtypes: int64(2), object(1)\n",
            "memory usage: 26.3+ MB\n"
          ]
        }
      ]
    },
    {
      "cell_type": "code",
      "metadata": {
        "id": "NEte6Q5OtWUP",
        "colab": {
          "base_uri": "https://localhost:8080/"
        },
        "outputId": "80b8d679-07e8-4774-fcae-5e2116584cfd"
      },
      "source": [
        "print(f\"Book-ratings Data : {ratings.shape}\" )\n",
        "print(f\"Columns: {list(ratings.columns)}\" )"
      ],
      "execution_count": 128,
      "outputs": [
        {
          "output_type": "stream",
          "name": "stdout",
          "text": [
            "Book-ratings Data : (1149780, 3)\n",
            "Columns: ['User-ID', 'ISBN', 'Book-Rating']\n"
          ]
        }
      ]
    },
    {
      "cell_type": "code",
      "metadata": {
        "id": "KiBvDOyJtth1",
        "colab": {
          "base_uri": "https://localhost:8080/"
        },
        "outputId": "d38783e8-8a22-42f9-9202-1683e801de9d"
      },
      "source": [
        "# Checking for null values\n",
        "ratings.isnull().sum() "
      ],
      "execution_count": 129,
      "outputs": [
        {
          "output_type": "execute_result",
          "data": {
            "text/plain": [
              "User-ID        0\n",
              "ISBN           0\n",
              "Book-Rating    0\n",
              "dtype: int64"
            ]
          },
          "metadata": {},
          "execution_count": 129
        }
      ]
    },
    {
      "cell_type": "code",
      "metadata": {
        "id": "eda-3Z26tv06",
        "colab": {
          "base_uri": "https://localhost:8080/"
        },
        "outputId": "4af5f73d-11f6-4b37-e1fd-ec1da1071c87"
      },
      "source": [
        "# checking User-ID & ratings contains only number or not\n",
        "print(is_numeric_dtype(ratings['Book-Rating']))\n",
        "print(is_numeric_dtype(ratings['User-ID']))"
      ],
      "execution_count": 130,
      "outputs": [
        {
          "output_type": "stream",
          "name": "stdout",
          "text": [
            "True\n",
            "True\n"
          ]
        }
      ]
    },
    {
      "cell_type": "code",
      "metadata": {
        "id": "FXKxwYjhuAj-",
        "colab": {
          "base_uri": "https://localhost:8080/"
        },
        "outputId": "06b8486a-bc0a-4e71-b51c-1f9d9af33da3"
      },
      "source": [
        "# checking ISBN\n",
        "specialCharDetector(ratings,'ISBN')"
      ],
      "execution_count": 131,
      "outputs": [
        {
          "output_type": "stream",
          "name": "stdout",
          "text": [
            " Special charecters found in ISBN\n"
          ]
        }
      ]
    },
    {
      "cell_type": "code",
      "metadata": {
        "id": "lomWIwRnswVd"
      },
      "source": [
        "# remove special chars from isbn\n",
        "removeSpecialChar(ratings)"
      ],
      "execution_count": 132,
      "outputs": []
    },
    {
      "cell_type": "code",
      "metadata": {
        "id": "oRruQBFHuXUc"
      },
      "source": [
        "# Uppercasing all alphabets in ISBN\n",
        "ratings['ISBN'] = ratings['ISBN'].str.upper()"
      ],
      "execution_count": 133,
      "outputs": []
    },
    {
      "cell_type": "code",
      "metadata": {
        "id": "w8URHnn3up6g",
        "colab": {
          "base_uri": "https://localhost:8080/"
        },
        "outputId": "ac787859-3b5b-42d3-ceaf-b9d7f7c9d296"
      },
      "source": [
        "# Drop duplicate rows\n",
        "ratings.drop_duplicates(keep='last', inplace=True)\n",
        "ratings.reset_index(drop=True, inplace=True)\n",
        "\n",
        "# size of df after dropping\n",
        "print(f'Shape of dataframe after dropping duplicates : {ratings.shape}')\n",
        "print(f'Number of duplicates dropped are : {1149780 - ratings.shape[0]}')"
      ],
      "execution_count": 134,
      "outputs": [
        {
          "output_type": "stream",
          "name": "stdout",
          "text": [
            "Shape of dataframe after dropping duplicates : (1149774, 3)\n",
            "Number of duplicates dropped are : 6\n"
          ]
        }
      ]
    },
    {
      "cell_type": "code",
      "metadata": {
        "id": "6jv7WpGfdlGI",
        "colab": {
          "base_uri": "https://localhost:8080/",
          "height": 457
        },
        "outputId": "c49488f9-c0bb-4972-9556-07441545b639"
      },
      "source": [
        "# frequntly used rating value\n",
        "CountPlotN('Book-Rating',ratings,15,'most frequnt rating value')"
      ],
      "execution_count": 135,
      "outputs": [
        {
          "output_type": "display_data",
          "data": {
            "image/png": "[encoded data removed]",
            "text/plain": [
              "<Figure size 1080x504 with 1 Axes>"
            ]
          },
          "metadata": {
            "needs_background": "light"
          }
        }
      ]
    },
    {
      "cell_type": "markdown",
      "metadata": {
        "id": "M59uvFOEeQju"
      },
      "source": [
        "the value for '0' seems to be dominant"
      ]
    },
    {
      "cell_type": "code",
      "metadata": {
        "id": "FGvVlen1eZNF"
      },
      "source": [
        "#Hence segragating implicit-0 and explict(~ 0) ratings datasets\n",
        "non_zero_ratings = ratings[ratings['Book-Rating'] != 0]\n",
        "zero_rating = ratings[ratings['Book-Rating'] == 0]"
      ],
      "execution_count": 136,
      "outputs": []
    },
    {
      "cell_type": "code",
      "metadata": {
        "id": "IZLP21kRgXCm",
        "colab": {
          "base_uri": "https://localhost:8080/",
          "height": 457
        },
        "outputId": "f64a59a2-8868-406f-85a7-0fffacb66988"
      },
      "source": [
        "# frequntly used rating value\n",
        "CountPlotN('Book-Rating',non_zero_ratings,15,'most frequnt rating value excluding zero')"
      ],
      "execution_count": 137,
      "outputs": [
        {
          "output_type": "display_data",
          "data": {
            "image/png": "[encoded data removed]",
            "text/plain": [
              "<Figure size 1080x504 with 1 Axes>"
            ]
          },
          "metadata": {
            "needs_background": "light"
          }
        }
      ]
    }
  ]
}